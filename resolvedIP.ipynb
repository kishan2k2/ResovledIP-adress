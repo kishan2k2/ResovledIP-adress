{
 "cells": [
  {
   "cell_type": "code",
   "execution_count": 26,
   "metadata": {},
   "outputs": [
    {
     "name": "stdout",
     "output_type": "stream",
     "text": [
      "http://142.250.182.174/\n"
     ]
    }
   ],
   "source": [
    "import requests\n",
    "domain = input(\"Enter the domain whose domain you want to find?\")\n",
    "if domain:\n",
    "    url = f'https://dns.google/resolve?name={domain}&type=A'\n",
    "    response = requests.get(url)\n",
    "    response_json = response.json()\n",
    "    # print(response_json)\n",
    "    print('http://'+response_json['Answer'][0]['data']+'/')\n",
    "else:\n",
    "    print(\"Invalid enter a domain\")"
   ]
  },
  {
   "cell_type": "markdown",
   "metadata": {},
   "source": [
    "One thing you will observe is that multiple domain may have the same resolved Ip address it is because read this https://stackoverflow.com/questions/5142030/why-does-the-resolved-ip-of-youtube-com-direct-to-google-com"
   ]
  },
  {
   "cell_type": "markdown",
   "metadata": {},
   "source": [
    "IP adress are limited so what companies do is that multiple domain is registerred in the same IP adress and when the client makes a request dns lookup returns the same IP adress and then it sends a HTTP request but the catch is that the request already has server name init"
   ]
  }
 ],
 "metadata": {
  "kernelspec": {
   "display_name": "Python 3",
   "language": "python",
   "name": "python3"
  },
  "language_info": {
   "codemirror_mode": {
    "name": "ipython",
    "version": 3
   },
   "file_extension": ".py",
   "mimetype": "text/x-python",
   "name": "python",
   "nbconvert_exporter": "python",
   "pygments_lexer": "ipython3",
   "version": "3.11.5"
  }
 },
 "nbformat": 4,
 "nbformat_minor": 2
}
